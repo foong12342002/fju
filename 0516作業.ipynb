{
 "cells": [
  {
   "cell_type": "code",
   "execution_count": 1,
   "id": "9b8b2560",
   "metadata": {},
   "outputs": [
    {
     "name": "stderr",
     "output_type": "stream",
     "text": [
      "D:\\Anaconda\\lib\\site-packages\\scipy\\__init__.py:138: UserWarning: A NumPy version >=1.16.5 and <1.23.0 is required for this version of SciPy (detected version 1.24.4)\n",
      "  warnings.warn(f\"A NumPy version >={np_minversion} and <{np_maxversion} is required for this version of \"\n"
     ]
    }
   ],
   "source": [
    "import numpy as np\n",
    "import scipy.stats as si\n",
    "\n"
   ]
  },
  {
   "cell_type": "code",
   "execution_count": 2,
   "id": "790de994",
   "metadata": {},
   "outputs": [],
   "source": [
    "C = []\n",
    "T = []"
   ]
  },
  {
   "cell_type": "code",
   "execution_count": 3,
   "id": "6d186d9a",
   "metadata": {},
   "outputs": [],
   "source": [
    "d1 = (np.log(90/100)+(0.01+0.5*0.3**2)*1)/(0.3*np.sqrt(1))\n",
    "d2 = (np.log(90/100)+(0.01-0.5*0.3**2)*1)/(0.3*np.sqrt(1))\n",
    "call = 90*si.norm.cdf(d1,0.0,1.0)-100*np.exp(-0.01*1)*si.norm.cdf(d2,0.0,1.0)"
   ]
  },
  {
   "cell_type": "code",
   "execution_count": 4,
   "id": "256c41f9",
   "metadata": {},
   "outputs": [],
   "source": [
    "T.append(1)\n",
    "C.append(call)"
   ]
  },
  {
   "cell_type": "code",
   "execution_count": 5,
   "id": "1b84956d",
   "metadata": {},
   "outputs": [
    {
     "data": {
      "text/plain": [
       "([1], [7.325316316806507])"
      ]
     },
     "execution_count": 5,
     "metadata": {},
     "output_type": "execute_result"
    }
   ],
   "source": [
    "T,C"
   ]
  },
  {
   "cell_type": "code",
   "execution_count": 6,
   "id": "c95325f6",
   "metadata": {},
   "outputs": [],
   "source": [
    "d1 = (np.log(90/100)+(0.01+0.5*0.3**2)*0.9)/(0.3*np.sqrt(0.9))\n",
    "d2 = (np.log(90/100)+(0.01-0.5*0.3**2)*0.9)/(0.3*np.sqrt(0.9))\n",
    "call = 90*si.norm.cdf(d1,0.0,1.0)-100*np.exp(-0.01*0.9)*si.norm.cdf(d2,0.0,1.0)"
   ]
  },
  {
   "cell_type": "code",
   "execution_count": 7,
   "id": "42c745f0",
   "metadata": {},
   "outputs": [],
   "source": [
    "T.append(0.9)\n",
    "C.append(call)"
   ]
  },
  {
   "cell_type": "code",
   "execution_count": 8,
   "id": "8897f390",
   "metadata": {},
   "outputs": [
    {
     "data": {
      "text/plain": [
       "([1, 0.9], [7.325316316806507, 6.750179641562781])"
      ]
     },
     "execution_count": 8,
     "metadata": {},
     "output_type": "execute_result"
    }
   ],
   "source": [
    "T,C"
   ]
  },
  {
   "cell_type": "code",
   "execution_count": 9,
   "id": "aeaa1c15",
   "metadata": {},
   "outputs": [],
   "source": [
    "d1 = (np.log(90/100)+(0.01+0.5*0.3**2)*0.5)/(0.3*np.sqrt(0.5))\n",
    "d2 = (np.log(90/100)+(0.01-0.5*0.3**2)*0.5)/(0.3*np.sqrt(0.5))\n",
    "call = 90*si.norm.cdf(d1,0.0,1.0)-100*np.exp(-0.01*0.5)*si.norm.cdf(d2,0.0,1.0)"
   ]
  },
  {
   "cell_type": "code",
   "execution_count": 10,
   "id": "d708855f",
   "metadata": {},
   "outputs": [],
   "source": [
    "T.append(0.5)\n",
    "C.append(call)"
   ]
  },
  {
   "cell_type": "code",
   "execution_count": 11,
   "id": "9fd273ca",
   "metadata": {},
   "outputs": [
    {
     "data": {
      "text/plain": [
       "([1, 0.9, 0.5], [7.325316316806507, 6.750179641562781, 4.128125544870759])"
      ]
     },
     "execution_count": 11,
     "metadata": {},
     "output_type": "execute_result"
    }
   ],
   "source": [
    "T,C"
   ]
  },
  {
   "cell_type": "code",
   "execution_count": 12,
   "id": "c9d6918f",
   "metadata": {},
   "outputs": [],
   "source": [
    "d1 = (np.log(90/100)+(0.01+0.5*0.3**2)*0.3)/(0.3*np.sqrt(0.3))\n",
    "d2 = (np.log(90/100)+(0.01-0.5*0.3**2)*0.3)/(0.3*np.sqrt(0.3))\n",
    "call = 90*si.norm.cdf(d1,0.0,1.0)-100*np.exp(-0.01*0.3)*si.norm.cdf(d2,0.0,1.0)"
   ]
  },
  {
   "cell_type": "code",
   "execution_count": 13,
   "id": "4fc4d8de",
   "metadata": {},
   "outputs": [],
   "source": [
    "T.append(0.3)\n",
    "C.append(call)"
   ]
  },
  {
   "cell_type": "code",
   "execution_count": 14,
   "id": "8b390f30",
   "metadata": {},
   "outputs": [
    {
     "data": {
      "text/plain": [
       "([1, 0.9, 0.5, 0.3],\n",
       " [7.325316316806507, 6.750179641562781, 4.128125544870759, 2.5241688673926532])"
      ]
     },
     "execution_count": 14,
     "metadata": {},
     "output_type": "execute_result"
    }
   ],
   "source": [
    "T,C"
   ]
  },
  {
   "cell_type": "code",
   "execution_count": 15,
   "id": "a53b5515",
   "metadata": {},
   "outputs": [],
   "source": [
    "d1 = (np.log(90/100)+(0.01+0.5*0.3**2)*0.1)/(0.3*np.sqrt(0.1))\n",
    "d2 = (np.log(90/100)+(0.01-0.5*0.3**2)*0.1)/(0.3*np.sqrt(0.1))\n",
    "call = 90*si.norm.cdf(d1,0.0,1.0)-100*np.exp(-0.01*0.1)*si.norm.cdf(d2,0.0,1.0)"
   ]
  },
  {
   "cell_type": "code",
   "execution_count": 16,
   "id": "f85506af",
   "metadata": {},
   "outputs": [],
   "source": [
    "T.append(0.1)\n",
    "C.append(call)"
   ]
  },
  {
   "cell_type": "code",
   "execution_count": 17,
   "id": "e427854c",
   "metadata": {},
   "outputs": [
    {
     "data": {
      "text/plain": [
       "([1, 0.9, 0.5, 0.3, 0.1],\n",
       " [7.325316316806507,\n",
       "  6.750179641562781,\n",
       "  4.128125544870759,\n",
       "  2.5241688673926532,\n",
       "  0.6167434536213108])"
      ]
     },
     "execution_count": 17,
     "metadata": {},
     "output_type": "execute_result"
    }
   ],
   "source": [
    "T,C"
   ]
  },
  {
   "cell_type": "code",
   "execution_count": 18,
   "id": "8709e608",
   "metadata": {},
   "outputs": [],
   "source": [
    "import matplotlib.pyplot as plt"
   ]
  },
  {
   "cell_type": "code",
   "execution_count": 19,
   "id": "13299d9b",
   "metadata": {},
   "outputs": [
    {
     "data": {
      "text/plain": [
       "[<matplotlib.lines.Line2D at 0x11073da3850>]"
      ]
     },
     "execution_count": 19,
     "metadata": {},
     "output_type": "execute_result"
    },
    {
     "data": {
      "image/png": "[encoded data removed]",
      "text/plain": [
       "<Figure size 432x288 with 1 Axes>"
      ]
     },
     "metadata": {
      "needs_background": "light"
     },
     "output_type": "display_data"
    }
   ],
   "source": [
    "plt.plot(T,C)"
   ]
  },
  {
   "cell_type": "code",
   "execution_count": 21,
   "id": "94ead98e",
   "metadata": {},
   "outputs": [
    {
     "data": {
      "image/png": "[encoded data removed]",
      "text/plain": [
       "<Figure size 432x288 with 1 Axes>"
      ]
     },
     "metadata": {
      "needs_background": "light"
     },
     "output_type": "display_data"
    }
   ],
   "source": [
    "fig, ax = plt.subplots()\n",
    "ax.plot(T,C)\n",
    "plt.xlim(-0.05,1.2)\n",
    "ax.invert_xaxis()\n",
    "plt.show()"
   ]
  },
  {
   "cell_type": "code",
   "execution_count": null,
   "id": "80662ede",
   "metadata": {},
   "outputs": [],
   "source": []
  }
 ],
 "metadata": {
  "kernelspec": {
   "display_name": "Python 3",
   "language": "python",
   "name": "python3"
  },
  "language_info": {
   "codemirror_mode": {
    "name": "ipython",
    "version": 3
   },
   "file_extension": ".py",
   "mimetype": "text/x-python",
   "name": "python",
   "nbconvert_exporter": "python",
   "pygments_lexer": "ipython3",
   "version": "3.8.8"
  }
 },
 "nbformat": 4,
 "nbformat_minor": 5
}
