{
 "cells": [
  {
   "cell_type": "code",
   "execution_count": 1,
   "id": "0cf7cb53",
   "metadata": {},
   "outputs": [],
   "source": [
    "def fibonacci(n):\n",
    "    if n<=2:\n",
    "        print(\"please enter a number which is greater than 2!\")\n",
    "        \n",
    "    else:\n",
    "        fib=[1,1]\n",
    "        ratio = [1]\n",
    "        for i in range(2,n):\n",
    "            fib_new = fib[i-1] +fib[i-2]\n",
    "            fib.append(fib_new)\n",
    "            ratio_new = fib[i-1]/fib_new\n",
    "            ratio.append(ratio_new)\n",
    "        print(fib)\n",
    "        print(ratio)"
   ]
  },
  {
   "cell_type": "code",
   "execution_count": 2,
   "id": "13d39dec",
   "metadata": {},
   "outputs": [
    {
     "name": "stdout",
     "output_type": "stream",
     "text": [
      "please enter a number which is greater than 2!\n"
     ]
    }
   ],
   "source": [
    "fibonacci(2)"
   ]
  },
  {
   "cell_type": "code",
   "execution_count": 3,
   "id": "f37bb258",
   "metadata": {},
   "outputs": [
    {
     "name": "stdout",
     "output_type": "stream",
     "text": [
      "[1, 1, 2, 3, 5, 8, 13]\n",
      "[1, 0.5, 0.6666666666666666, 0.6, 0.625, 0.6153846153846154]\n"
     ]
    }
   ],
   "source": [
    "fibonacci(7)"
   ]
  },
  {
   "cell_type": "code",
   "execution_count": 4,
   "id": "1aa355f3",
   "metadata": {},
   "outputs": [
    {
     "name": "stdout",
     "output_type": "stream",
     "text": [
      "[1, 1, 2, 3, 5, 8, 13, 21, 34, 55]\n",
      "[1, 0.5, 0.6666666666666666, 0.6, 0.625, 0.6153846153846154, 0.6190476190476191, 0.6176470588235294, 0.6181818181818182]\n"
     ]
    }
   ],
   "source": [
    "fibonacci(10)"
   ]
  },
  {
   "cell_type": "code",
   "execution_count": null,
   "id": "b55d4fe2",
   "metadata": {},
   "outputs": [],
   "source": []
  }
 ],
 "metadata": {
  "kernelspec": {
   "display_name": "Python 3",
   "language": "python",
   "name": "python3"
  },
  "language_info": {
   "codemirror_mode": {
    "name": "ipython",
    "version": 3
   },
   "file_extension": ".py",
   "mimetype": "text/x-python",
   "name": "python",
   "nbconvert_exporter": "python",
   "pygments_lexer": "ipython3",
   "version": "3.8.8"
  }
 },
 "nbformat": 4,
 "nbformat_minor": 5
}
